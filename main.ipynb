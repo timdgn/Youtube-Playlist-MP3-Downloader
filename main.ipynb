{
 "cells": [
  {
   "cell_type": "code",
   "execution_count": null,
   "metadata": {},
   "outputs": [],
   "source": [
    "from pytube import YouTube, Playlist\n",
    "from moviepy.editor import ffmpeg_tools as ff\n",
    "from tqdm import tqdm\n",
    "import datetime\n",
    "import os\n",
    "\n",
    "playlist_URL = 'https://www.youtube.com/playlist?list=FLNPzWyOogzgJktfz1Uw76hQ'\n",
    "full_playlist = Playlist(playlist_URL)\n",
    "output_path = 'music/'\n",
    "\n",
    "\n",
    "# Fix the video numbers\n",
    "validation = 'n'\n",
    "while validation != 'y':\n",
    "    n = int(input('Enter the number of youtube videos to download: '))\n",
    "    playlist = full_playlist[:n]\n",
    "    for URL in playlist:\n",
    "        vid = YouTube(URL)\n",
    "        print('Title:', vid.title)\n",
    "        print('Length:', datetime.timedelta(seconds=vid.length), 's')\n",
    "        print('URL:', URL)\n",
    "        print()\n",
    "    validation = input('Good ? (y/n)')\n",
    "\n",
    "\n",
    "# Select the correct streams (Adaptive/DASH, audio, .mp4)\n",
    "print(\"Downloading ...\")\n",
    "for URL in tqdm(playlist):\n",
    "    vid = YouTube(URL)\n",
    "    title = vid.title\n",
    "    audios_dash_mp4 = vid.streams.filter(adaptive=True,\n",
    "                                         only_audio=True,\n",
    "                                         file_extension='mp4')\n",
    "    # Download the stream\n",
    "    best_audio = audios_dash_mp4[-1]\n",
    "    best_audio.download(output_path)\n",
    "\n",
    "print('Download completed !')\n"
   ]
  },
  {
   "cell_type": "markdown",
   "metadata": {},
   "source": [
    "# Converting from mp4 to mp3"
   ]
  },
  {
   "cell_type": "markdown",
   "metadata": {},
   "source": [
    "### Convert with ffmpeg"
   ]
  },
  {
   "cell_type": "code",
   "execution_count": 3,
   "metadata": {},
   "outputs": [
    {
     "name": "stdout",
     "output_type": "stream",
     "text": [
      "Moviepy - Running:\n",
      ">>> \"+ \" \".join(cmd)\n",
      "Moviepy - Command successful\n"
     ]
    }
   ],
   "source": [
    "from moviepy.editor import ffmpeg_tools as ff\n",
    "import os\n",
    "\n",
    "output_path = 'music/' # A supprimer à l'implementation\n",
    "mp4_file = 'Timecop1983 - On the Run 2' + '.mp4' # A modifier à l'implementation\n",
    "mp3_file = 'Timecop1983 - On the Run 2' + '.mp3' # A modifier à l'implementation\n",
    "\n",
    "def convert_ff(output_path, mp4_file, mp3_file):    \n",
    "    ff.ffmpeg_extract_audio(output_path+mp4_file, output_path+mp3_file)\n",
    "    return mp3_file\n",
    "\n"
   ]
  },
  {
   "cell_type": "markdown",
   "metadata": {},
   "source": [
    "### Convert by editing the extention"
   ]
  },
  {
   "cell_type": "code",
   "execution_count": 4,
   "metadata": {},
   "outputs": [],
   "source": [
    "import os\n",
    "\n",
    "output_path = 'music/' # A supprimer à l'implementation\n",
    "mp4_file = 'Timecop1983 - On the Run 2' + '.mp4' # A modifier à l'implementation\n",
    "mp3_file = 'Timecop1983 - On the Run 2' + '.mp3' # A modifier à l'implementation\n",
    "\n",
    "def convert_ext(output_path, mp4_file, mp3_file):\n",
    "    os.rename(output_path+mp4_file, output_path+mp3_file)\n",
    "    return mp3_file\n",
    "\n",
    "convert_ext(output_path, mp4_file)"
   ]
  }
 ],
 "metadata": {
  "kernelspec": {
   "display_name": "Python 3.8.8 ('base')",
   "language": "python",
   "name": "python3"
  },
  "language_info": {
   "codemirror_mode": {
    "name": "ipython",
    "version": 3
   },
   "file_extension": ".py",
   "mimetype": "text/x-python",
   "name": "python",
   "nbconvert_exporter": "python",
   "pygments_lexer": "ipython3",
   "version": "3.8.8"
  },
  "orig_nbformat": 4,
  "vscode": {
   "interpreter": {
    "hash": "0dc0b812dbb6b39e83a0b36e1e73ba7b4394f8620cbcc072f1b63b4ffecb41d9"
   }
  }
 },
 "nbformat": 4,
 "nbformat_minor": 2
}
