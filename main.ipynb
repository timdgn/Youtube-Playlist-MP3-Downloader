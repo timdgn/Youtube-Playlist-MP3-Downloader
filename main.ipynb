{
 "cells": [
  {
   "cell_type": "code",
   "execution_count": null,
   "metadata": {},
   "outputs": [],
   "source": [
    "from pytube import YouTube, Playlist\n",
    "from moviepy.editor import *\n",
    "from tqdm import tqdm\n",
    "import datetime\n",
    "import os\n",
    "\n",
    "playlist_URL = 'https://www.youtube.com/playlist?list=FLNPzWyOogzgJktfz1Uw76hQ'\n",
    "full_playlist = Playlist(playlist_URL)\n",
    "output_path = 'music/'\n",
    "\n",
    "\n",
    "# Fix the video numbers\n",
    "validation = 'n'\n",
    "while validation != 'y':\n",
    "    n = int(input('Enter the number of youtube videos to download: '))\n",
    "    playlist = full_playlist[:n]\n",
    "    for URL in playlist:\n",
    "        vid = YouTube(URL)\n",
    "        print('Title:', vid.title)\n",
    "        print('Length:', datetime.timedelta(seconds=vid.length), 's')\n",
    "        print('URL:', URL)\n",
    "        print()\n",
    "    validation = input('Good ? (y/n)')\n",
    "\n",
    "\n",
    "# Select the correct streams (Adaptive/DASH, audio, .mp4)\n",
    "print(\"Downloading ...\")\n",
    "for URL in tqdm(playlist):\n",
    "    vid = YouTube(URL)\n",
    "    title = vid.title\n",
    "    audios_dash_mp4 = vid.streams.filter(adaptive=True,\n",
    "                                         only_audio=True,\n",
    "                                         file_extension='mp4')\n",
    "    # Download the stream\n",
    "    best_audio = audios_dash_mp4[-1]\n",
    "    best_audio.download(output_path)\n",
    "\n",
    "print('Download completed !')\n"
   ]
  },
  {
   "cell_type": "code",
   "execution_count": null,
   "metadata": {},
   "outputs": [],
   "source": [
    "videoclip = VideoFileClip(mp4_file)\n",
    "audioclip = videoclip.audio\n",
    "audioclip.write_audiofile(mp3_file)\n",
    "audioclip.close()\n",
    "videoclip.close()"
   ]
  },
  {
   "cell_type": "code",
   "execution_count": null,
   "metadata": {},
   "outputs": [],
   "source": [
    "\n",
    "# base, ext = os.path.splitext(out_file)\n",
    "# new_file = base + '.mp3'\n",
    "# os.rename(out_file, new_file)"
   ]
  }
 ],
 "metadata": {
  "kernelspec": {
   "display_name": "Python 3.8.8 ('base')",
   "language": "python",
   "name": "python3"
  },
  "language_info": {
   "codemirror_mode": {
    "name": "ipython",
    "version": 3
   },
   "file_extension": ".py",
   "mimetype": "text/x-python",
   "name": "python",
   "nbconvert_exporter": "python",
   "pygments_lexer": "ipython3",
   "version": "3.8.8"
  },
  "orig_nbformat": 4,
  "vscode": {
   "interpreter": {
    "hash": "0dc0b812dbb6b39e83a0b36e1e73ba7b4394f8620cbcc072f1b63b4ffecb41d9"
   }
  }
 },
 "nbformat": 4,
 "nbformat_minor": 2
}
