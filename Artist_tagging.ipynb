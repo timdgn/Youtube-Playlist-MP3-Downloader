{
 "cells": [
  {
   "cell_type": "code",
   "execution_count": null,
   "outputs": [],
   "source": [
    "import os\n",
    "import wget\n",
    "import datetime\n",
    "from time import sleep, time\n",
    "from pytube import YouTube, Playlist\n",
    "from moviepy.editor import ffmpeg_tools as ff\n",
    "import eyed3\n",
    "from eyed3.id3.frames import ImageFrame\n",
    "from rich.progress import track"
   ],
   "metadata": {
    "collapsed": false
   }
  },
  {
   "cell_type": "markdown",
   "source": [
    "# Todo\n",
    "files = List all file names\n",
    "For file in files:\n",
    "    artist = file.couper avant le '-'\n",
    "    artist = artist.enlever l'espace avant et après\n",
    "    mutagen tag artist"
   ],
   "metadata": {
    "collapsed": false
   }
  },
  {
   "cell_type": "code",
   "execution_count": null,
   "outputs": [],
   "source": [
    "def download_pl(short_pl, n_mus, output):\n",
    "    \"\"\"\n",
    "    Select the correct streams (Adaptive/DASH, audio, .mp4) and download the file\n",
    "    :param short_pl: (list) List of URLs of only the selected YouTube videos\n",
    "    :param n_mus: (int) number of musics we want to download\n",
    "    :param output: (str) String of the output path where the musics are to be downloaded\n",
    "    :return: n_music: (int) number of musics we want to download\n",
    "    \"\"\"\n",
    "    t1 = time()\n",
    "    print('\\nTagging ...', end='\\n\\n')\n",
    "\n",
    "    for i, url in enumerate(track(short_pl, description='[red]Tagging ... ')):\n",
    "\n",
    "        mp4_file = f'.{title}.mp4'\n",
    "        mp3_file = f'{title}.mp3'\n",
    "\n",
    "        # Fetch all the streams in Dash/adaptive, audio and .mp4 format\n",
    "        audios_dash_mp4 = mus.streams.filter(adaptive=True,\n",
    "                                             only_audio=True,\n",
    "                                             file_extension='mp4')\n",
    "\n",
    "        # Download the best stream to .mp4\n",
    "        best_audio = audios_dash_mp4[-1]  # The last stream has the best quality\n",
    "        print(f'🌟 {i+1}: {title}')\n",
    "        best_audio.download(output_path=output,\n",
    "                            filename=mp4_file,\n",
    "                            max_retries=3)\n",
    "\n",
    "        # Convert .mp4 to .mp3 and clean the .mp4\n",
    "        ff.ffmpeg_extract_audio(os.path.join(output, mp4_file), os.path.join(output, mp3_file))\n",
    "        os.remove(os.path.join(output, mp4_file))\n",
    "\n",
    "        # Download the thumbnail\n",
    "        pic_path_name = wget.download(mus.thumbnail_url, output)\n",
    "\n",
    "        # Mutagen.eyed3, to merge the thumbnail to the .mp3\n",
    "        # https://stackoverflow.com/questions/38510694/how-to-add-album-art-to-mp3-file-using-python-3\n",
    "        music = eyed3.load(os.path.join(output, mp3_file))\n",
    "        if music.tag is None:\n",
    "            music.initTag()\n",
    "\n",
    "        # music.tag.title = 'your_title'  # Set the title\n",
    "        # music.tag.album = 'your_album_name'  # Set the album name\n",
    "        music.tag.images.set(3,\n",
    "                             open(pic_path_name, 'rb').read(),\n",
    "                             'image/jpeg')\n",
    "\n",
    "        # Save the tags\n",
    "        music.tag.save(version=eyed3.id3.ID3_V2_3)\n",
    "        music.tag.save()\n",
    "\n",
    "        # Clean the thumbnail file\n",
    "        os.remove(pic_path_name)\n",
    "        print('\\n')\n",
    "\n",
    "    # Compute the time spent on the download part\n",
    "    t2 = time()\n",
    "    time_spent_sec = t2 - t1\n",
    "    time_spent_min = time_spent_sec / 60\n",
    "\n",
    "    print('\\n\\n')\n",
    "    print(f'{n_mus} musics downloaded in {\"%.2f\"%time_spent_sec}s ({\"%.2f\"%time_spent_min}mins) ! ✅')"
   ],
   "metadata": {
    "collapsed": false
   }
  }
 ],
 "metadata": {
  "kernelspec": {
   "display_name": "Python 3",
   "language": "python",
   "name": "python3"
  },
  "language_info": {
   "codemirror_mode": {
    "name": "ipython",
    "version": 2
   },
   "file_extension": ".py",
   "mimetype": "text/x-python",
   "name": "python",
   "nbconvert_exporter": "python",
   "pygments_lexer": "ipython2",
   "version": "2.7.6"
  }
 },
 "nbformat": 4,
 "nbformat_minor": 0
}
