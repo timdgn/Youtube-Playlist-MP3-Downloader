{
 "cells": [
  {
   "cell_type": "code",
   "execution_count": null,
   "outputs": [],
   "source": [
    "import os\n",
    "import datetime\n",
    "from time import sleep\n",
    "from pytube import YouTube, Playlist\n",
    "\n",
    "playlist_URL = 'https://www.youtube.com/playlist?list=FLNPzWyOogzgJktfz1Uw76hQ'\n",
    "output_path = 'music'"
   ],
   "metadata": {
    "collapsed": false
   }
  },
  {
   "cell_type": "code",
   "execution_count": null,
   "outputs": [],
   "source": [
    "def mus_fetch_reformat(url):\n",
    "    \"\"\"\n",
    "    Takes the url of a YouTube video, and outputs a Pytube object about it.\n",
    "    It refactors the name of the YouTube video to remove special characters from it\n",
    "    to avoid file name errors on Windows.\n",
    "    :param url: URL of a YouTube video\n",
    "    :return: mus: A Pytube object describing the YouTube video\n",
    "    \"\"\"\n",
    "\n",
    "    mus = YouTube(url)\n",
    "    # If no sleep, some music names will be presented as \"Video Not Available\"\n",
    "    # with a length of 0:05:00s\n",
    "    sleep(0.5)\n",
    "\n",
    "    # On Windows, file names with those characters bring an error\n",
    "    char_to_replace = ['\\\\', '/', ':', '*', '?', '\"', '<', '>', '|']\n",
    "    for char in char_to_replace:\n",
    "        mus.title = mus.title.replace(char, '')\n",
    "\n",
    "    return mus\n",
    "\n",
    "\n",
    "def short_playlist(full_pl, output):\n",
    "    \"\"\"\n",
    "    Takes a list of all the URLs of a YouTube playlist,\n",
    "    and creates a short playlist containing only the musics we want\n",
    "    :param full_pl: (list) List of URLs of the whole YouTube playlist\n",
    "    :param output: (str) String of the output path where the musics are to be downloaded\n",
    "    :return: short_pl: (list) List of URLs of only the selected YouTube videos\n",
    "    :return: n_music: (int) number of musics we want to download\n",
    "    \"\"\"\n",
    "\n",
    "    global n_music\n",
    "    validation = 'n'\n",
    "    short_pl = []\n",
    "    existing_files = {}\n",
    "\n",
    "    # While loop to let the user validate if he wants to keep the short playlist shown to him\n",
    "    while validation not in ['y', 'Y']:\n",
    "        print('⭐️ 3 different modes:')\n",
    "        print('1 - Download the x last musics')\n",
    "        print('2 - Download a range of musics')\n",
    "        print('3 - Download specific musics')\n",
    "\n",
    "        dl_mode = 0\n",
    "        while dl_mode not in [1, 2, 3]:\n",
    "            dl_mode = input('\\nWhich mode do you want to use ? (1 or 2 or 3)      ')\n",
    "\n",
    "        if dl_mode == 1:  # Good !\n",
    "            n_music = int(input('\\nHow many recent musics of your playlist you want to download ?      '))\n",
    "            print('\\n\\n')\n",
    "            short_pl = full_pl[:n_music]\n",
    "\n",
    "        elif dl_mode == 2:  # Good !\n",
    "            n_music = input('\\nEnter the range of musics to download (e.g. 10-20):      ')\n",
    "            print('\\n\\n')\n",
    "            n_music = n_music.replace(' ','')\n",
    "            n_music = n_music.split('-')\n",
    "            short_pl = full_pl[n_music[0]:n_music[1]]\n",
    "\n",
    "        elif dl_mode == 3:  # todo a faire\n",
    "            n_music = input('\\nEnter the specific musics you want to download (e.g. 1, 4, 5):      ')\n",
    "            print('\\n\\n')\n",
    "            short_pl = full_pl[:n_music]\n",
    "\n",
    "\n",
    "\n",
    "\n",
    "\n",
    "        ############################################################################################################\n",
    "\n",
    "\n",
    "\n",
    "\n",
    "        existing_files = {}\n",
    "\n",
    "        # Print each music to be downloaded\n",
    "        for i, URL in enumerate(short_pl):\n",
    "            mus = mus_fetch_reformat(URL)\n",
    "            title = mus.title\n",
    "\n",
    "            print(f'---------- N°{i + 1} ----------')\n",
    "            print(f'Title: {title}')\n",
    "            print(f'Length: {datetime.timedelta(seconds=mus.length)}s')\n",
    "            print(f'URL: {URL}', end='\\n\\n')\n",
    "\n",
    "            # If a music already exists, add its name to a list\n",
    "            if os.path.exists(os.path.join(output, title + '.mp3')):\n",
    "                existing_files[f'{title}'] = URL\n",
    "\n",
    "        # Validate if we keep this playlist, of if we want to set a new playlist\n",
    "        validation = input('Good to download ? (y/n)      ')\n",
    "        print('\\n\\n')\n",
    "\n",
    "    # Remove existing urls from the short_pl list\n",
    "    [short_pl.remove(URL) for URL in existing_files.values()]\n",
    "\n",
    "    # Print if there is some musics that were already downloaded\n",
    "    if len(existing_files) > 0:\n",
    "        print(f'{len(existing_files)} musics already downloaded over {n_music} in the download list.')\n",
    "        print('They are not going to be downloaded again :')\n",
    "        for i, title in enumerate(existing_files.keys()):\n",
    "            print(f'⭐ {i+1}: {title}')\n",
    "\n",
    "    return short_pl, n_music"
   ],
   "metadata": {
    "collapsed": false
   }
  },
  {
   "cell_type": "code",
   "execution_count": null,
   "outputs": [],
   "source": [
    "full_playlist = Playlist(playlist_URL)\n",
    "playlist, n_music = short_playlist(full_playlist, output_path)\n",
    "print('\\n\\n\\nTerminé')\n"
   ],
   "metadata": {
    "collapsed": false
   }
  },
  {
   "cell_type": "code",
   "execution_count": null,
   "outputs": [],
   "source": [],
   "metadata": {
    "collapsed": false
   }
  }
 ],
 "metadata": {
  "kernelspec": {
   "display_name": "Python 3",
   "language": "python",
   "name": "python3"
  },
  "language_info": {
   "codemirror_mode": {
    "name": "ipython",
    "version": 2
   },
   "file_extension": ".py",
   "mimetype": "text/x-python",
   "name": "python",
   "nbconvert_exporter": "python",
   "pygments_lexer": "ipython2",
   "version": "2.7.6"
  }
 },
 "nbformat": 4,
 "nbformat_minor": 0
}
